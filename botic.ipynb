{
 "cells": [
  {
   "cell_type": "code",
   "execution_count": 1,
   "metadata": {},
   "outputs": [],
   "source": [
    "import vk_api\n",
    "from vk_api.longpoll import VkLongPoll, VkEventType\n",
    "from random import randrange\n",
    "import json\n",
    "import requests\n",
    "import sqlite3\n",
    "conn = sqlite3.connect(\"cinemas.db\")\n",
    "cursor = conn.cursor()"
   ]
  },
  {
   "cell_type": "code",
   "execution_count": 2,
   "metadata": {},
   "outputs": [],
   "source": [
    "def write_msg(user_id, message, keyboard=None):\n",
    "    random_id=randrange(-pow(2,63),pow(2,63)-1,1)\n",
    "    vk.method('messages.send', {'user_id': user_id, 'message': message, 'random_id':random_id, 'keyboard':keyboard})"
   ]
  },
  {
   "cell_type": "code",
   "execution_count": 3,
   "metadata": {},
   "outputs": [],
   "source": [
    "def halls(brand):\n",
    "    brand_id = cursor.execute(f\"select id from brand where name='{brand}'\").fetchall()[0][0]\n",
    "    li = list()\n",
    "    for v in cursor.execute(f\"select name from cinema_halls where brand_id='{brand_id}'\").fetchall():\n",
    "        li.append(v)\n",
    "    return li\n",
    "\n",
    "def dates(concret_hall):\n",
    "    hall_id=cursor.execute(f\"select id from cinema_halls where name='{concret_hall[0]}'\").fetchall()[0][0]\n",
    "    dates_list=list(set([v[0] for v in cursor.execute(f\"select date from sessions where hall_id='{hall_id}'\").fetchall()]))    \n",
    "    return sorted(dates_list)\n",
    "\n",
    "def conc_sessions(date, concret_hall):\n",
    "    hall_id=cursor.execute(f\"select id from cinema_halls where name='{concret_hall[0]}'\").fetchall()[0][0]\n",
    "    sessions=cursor.execute(f\"select cinema_id from sessions where (hall_id='{hall_id}'and date='{date}') \").fetchall()\n",
    "    for i, session in enumerate(sessions):\n",
    "        sessions[i] = cursor.execute(f\"select name from cinemas where id='{session[0]}'\").fetchall()[0][0]\n",
    "    return sorted(list(set(sessions)))\n",
    "\n",
    "def data(brand, hall, date, film):\n",
    "    hall_data = cursor.execute(f\"select address, metro, phone, id from cinema_halls where name='{hall[0]}'\").fetchall()[0]\n",
    "    film_data = cursor.execute(f\"select duration, genres, id from cinemas where name='{film}'\").fetchall()[0]\n",
    "    sessions_data = cursor.execute(f\"select form, time from sessions where (cinema_id='{film_data[2]}' and hall_id='{hall_data[3]}' and date='{date}')\").fetchall()\n",
    "    info =f'''Сеть кинотеатров: {brand}\n",
    "    Кинотеатр: {hall[0]}\n",
    "    По адресу: {hall_data[0]}\n",
    "    Метро: {hall_data[1]}\n",
    "    Телефон: {hall_data[2]}\n",
    "    Фильм: {film}\n",
    "    Продолжительность: {film_data[0]} мин\n",
    "    Жанры: {film_data[1]}\n",
    "    Сеансы:'''\n",
    "    for i in sessions_data:\n",
    "        info += f\"\\n в формате {i[0]}: {i[1]}\"\n",
    "    return info"
   ]
  },
  {
   "cell_type": "code",
   "execution_count": 4,
   "metadata": {},
   "outputs": [],
   "source": [
    "def keys(buttons=[], brand = None, hall = None, date = None, session = None, next_ = 0):   \n",
    "    keyboard = {\"one_time\": True}\n",
    "    buttons = buttons[30*next_:]\n",
    "    if next_:\n",
    "        payload={'brand':brand,'hall':hall,'date':date,'session':session,'next':next_ - 1}\n",
    "        button_previous={\"action\": {\"type\": \"text\",\"payload\": payload,\"label\": 'Назад'},\n",
    "                        \"color\": \"negative\"}\n",
    "    else:\n",
    "        button_previous = None\n",
    "    if len(buttons) > 30:\n",
    "        payload={'brand':brand,'hall':hall,'date':date,'session':session,'next':next_ + 1}\n",
    "        button_next={\"action\": {\"type\": \"text\",\"payload\": payload,\"label\": 'Далее'},\n",
    "                     \"color\": \"positive\"}\n",
    "    else:\n",
    "        button_next = None\n",
    "    buttons = buttons[:30]\n",
    "    li_buttons=[]\n",
    "    for i, button in enumerate(buttons):\n",
    "        payload={'brand':brand,'hall':hall,'date':date,'session':session,'next':0}\n",
    "        if not payload['brand']:\n",
    "            payload['brand'] = button\n",
    "        elif not payload['hall']:\n",
    "            payload['hall'] = button\n",
    "        elif not payload['date']:\n",
    "            payload['date'] = button\n",
    "        else:\n",
    "            payload['session']=button\n",
    "        button = {\"action\": {\"type\": \"text\",\"payload\": payload,\"label\": next_*30 + i + 1},\n",
    "                \"color\": \"secondary\"}\n",
    "        li_buttons.append(button)  \n",
    "    buttons=[]\n",
    "    while li_buttons:  \n",
    "        buttons.append(li_buttons[:4])\n",
    "        li_buttons = li_buttons[4:]\n",
    "    if button_previous:\n",
    "        buttons.append([button_previous])\n",
    "    if button_next:\n",
    "        buttons.append([button_next])\n",
    "    button = {\"action\": {\"type\": \"text\",\"payload\": None,\"label\": 'В меню'},\n",
    "                \"color\": \"primary\"}\n",
    "    buttons.append([button])\n",
    "    keyboard[\"buttons\"]= buttons \n",
    "    keyboard = str(json.dumps(keyboard))\n",
    "    return keyboard"
   ]
  },
  {
   "cell_type": "code",
   "execution_count": null,
   "metadata": {},
   "outputs": [
    {
     "name": "stdout",
     "output_type": "stream",
     "text": [
      "Server started\n"
     ]
    }
   ],
   "source": [
    "token = \"8b183ddf516b74eda6c20d66d0f703ea160e85d0740777e613c6b03dbd7b81e2b606b0f84762d8a289b0b\"\n",
    "vk = vk_api.VkApi(token=token)\n",
    "longpoll = VkLongPoll(vk)\n",
    "print(\"Server started\")\n",
    "brands = [el[0] for el in cursor.execute(\"select name from brand\").fetchall()]\n",
    "for event in longpoll.listen():\n",
    "    if event.type == VkEventType.MESSAGE_NEW:\n",
    "        if event.to_me:\n",
    "            request = event.text.lower()\n",
    "            payload=json.loads(event.extra_values.get('payload','\"\"'))\n",
    "            if not(payload):\n",
    "                write_msg(event.user_id, 'Выберите  сеть кинотеатров:\\n'+'\\n'.join([str(i + 1) + '. ' + el for i, el in enumerate(brands)]),keys(brands))\n",
    "            elif payload['brand'] and not payload['hall']:\n",
    "                next_=payload['next']\n",
    "                brand=payload['brand']\n",
    "                hall=halls(brand)\n",
    "                write_msg(event.user_id,'Выберите кинотеатр\\n'+'\\n'.join([str(i + 1) + '. ' + el[0] for i, el in enumerate(halls(brand))]),keys(hall, brand, next_=next_))\n",
    "            elif payload['brand'] and payload['hall'] and not payload['date']:\n",
    "                next_=payload['next']\n",
    "                brand=payload['brand']\n",
    "                hall=payload['hall']\n",
    "                date=dates(hall)\n",
    "                write_msg(event.user_id,'Выберите дату\\n'+'\\n'.join([str(i + 1) + '. ' + el for i,el in enumerate(date)]),keys(date,brand,hall,next_=next_))\n",
    "            elif payload['brand'] and payload['hall'] and payload['date'] and not payload['session']:\n",
    "                next_=payload['next']\n",
    "                brand=payload['brand']\n",
    "                hall=payload['hall']\n",
    "                date=payload['date']\n",
    "                session =conc_sessions(date,hall)\n",
    "                write_msg(event.user_id,'Выберите фильм\\n'+'\\n'.join([str(i + 1) + '. ' + el for i,el in enumerate(session)]),keys(session,brand,hall,date,next_=next_))\n",
    "            else:\n",
    "                brand=payload['brand']\n",
    "                hall=payload['hall']\n",
    "                date=payload['date']\n",
    "                session=payload['session']\n",
    "                text=data(brand,hall,date,session)\n",
    "                write_msg(event.user_id,text,keys())"
   ]
  },
  {
   "cell_type": "code",
   "execution_count": null,
   "metadata": {},
   "outputs": [],
   "source": []
  }
 ],
 "metadata": {
  "kernelspec": {
   "display_name": "Python 3",
   "language": "python",
   "name": "python3"
  },
  "language_info": {
   "codemirror_mode": {
    "name": "ipython",
    "version": 3
   },
   "file_extension": ".py",
   "mimetype": "text/x-python",
   "name": "python",
   "nbconvert_exporter": "python",
   "pygments_lexer": "ipython3",
   "version": "3.7.3"
  }
 },
 "nbformat": 4,
 "nbformat_minor": 2
}
